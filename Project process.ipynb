{
 "cells": [
  {
   "cell_type": "markdown",
   "metadata": {},
   "source": [
    "# Experience to Knowledge (feat. kakao arena 1)"
   ]
  },
  {
   "cell_type": "markdown",
   "metadata": {},
   "source": [
    "WHY? 전체 프로세스를 정리하해보며, 경험으로 축적하기\n",
    "\n",
    "프로젝트 진행과정을 간추려 정리하면,\n",
    "> 1. 데이터 획득.\n",
    "> 2. 데이터 EDA를 통한 특성, 특이사항 파악 \n",
    "> 3. 전처리하여 학습데이터 구축\n",
    "> 4. 모델 학습\n",
    "> 5. 모델 적용 결과\n",
    "> 6. 결과분석 -> (2,3,4)로 돌아감\n"
   ]
  },
  {
   "cell_type": "markdown",
   "metadata": {},
   "source": [
    "우선 코드의 실행을 위해 다운로드받은 데이터파일 경로를 셋업해주고 EDA를 위해 작성한 유틸들을 임포트 해주자!"
   ]
  },
  {
   "cell_type": "code",
   "execution_count": 19,
   "metadata": {},
   "outputs": [],
   "source": [
    "DATAFILE_PATH = '../../dataset'\n",
    "! set DATAFILE_PATH = '../../dataset'\n",
    "\n",
    "# EDA 과정에서 작성한 코드 \n",
    "import EDA\n",
    "eda = EDA.EDA(DATAFILE_PATH)"
   ]
  },
  {
   "cell_type": "markdown",
   "metadata": {
    "heading_collapsed": true
   },
   "source": [
    "## 데이터 획득\n",
    "카카오 아레나에서 제공되는 데이터를 다운로드하기만 하면 됬다. **데이터는 용량이 커서 다운로드에 하루정도의 시간이 걸렸다.** 카테고리 정보를 담은 `cate1.json` 파일과 분류레이블이 달려있는 `8개의 train용` 데이터파일, 분류레이블이 주어지지 않는 `1개의 dev용`과 `2개의 test용`데이터 파일이 주어졌다. \n",
    "\n",
    "> 데이터의 용량의 크기는 생각보다 많은 어려움들을 가져왔다. 일단 모든 과정마다 처리 시간이 길어지기 때문에 시간적으로 효율적이도록 구현을 했고, 처리할때마다 컴퓨터의 용량이 부족해서 뭔가를 계속 지우고 있어야됬다... 저장공간부족으로 에러도 여러번 났다. 파일은 여러 청크로 나눠서 처리과정을 거치도록 했다. 다음에는 하드를 하나 사야겠다...\n",
    "\n",
    "|  ㅇ-ㅇ  | ㅇ-ㅇ  |\n",
    "| --- | --- |\n",
    "| 용량 | 약 **96Gbyte** |\n",
    "| 데이터 갯수 | train-**810만개**, dev-50만개, test-150만개 |\n",
    "| 주어진 파일 형태 | **hdf5**, json |"
   ]
  },
  {
   "cell_type": "markdown",
   "metadata": {
    "hidden": true
   },
   "source": [
    "다운받은 데이터 목록"
   ]
  },
  {
   "cell_type": "code",
   "execution_count": null,
   "metadata": {
    "hidden": true
   },
   "outputs": [],
   "source": [
    "! ls $DATAFILE_PATH"
   ]
  },
  {
   "cell_type": "markdown",
   "metadata": {},
   "source": [
    "## EDA - 주어진 데이터 특성, 특이사항 파악\n",
    "주어진 데이터를 살펴보면서, 데이터의 특성을 파악하고 이를 바탕으로 어떤 모델을 구축하는게 좋을지 생각해보았다. 특히 이번 프로젝트에서는 다음 항목을 고려하며 EDA를 진행했다.\n",
    "> - 실제 데이터의 각 항목에 어떤 값들이 들어있나\n",
    "> - 이상치는 없는가\n",
    "> - 주어진 데이터의 분포에 문제는 없는가\n",
    "> - base code처럼 join한 하나의 라벨(`'b>m>s>d'`)로 처리하는게 좋을까 아님 각각 나눠진 라벨(`b, m, s, d`) 로써 분류모델을 만드는게 좋을까\n",
    "> - text split을 어떻게 하는게 적절한가"
   ]
  },
  {
   "cell_type": "markdown",
   "metadata": {
    "heading_collapsed": true
   },
   "source": [
    "### 카테고리별 라벨정보 확인(cate1.json)\n",
    "우선 **카테고리 정보(`cate1.json`)를 확인해 인덱싱 번호가 어떤식으로 붙어있는지 확인**해보았다. `json`패키지를 사용해 읽어오고 python3의경우 'utf-8'로 디코드해주는 것을 잊지말자. 이번 데이터의 카테고리별 라벨은 다음과 같이 정리해볼 수 있었다.\n",
    "\n",
    "| - | - |\n",
    "| --- | --- |\n",
    "| b | 1~57 |\n",
    "| m | 1~552 |\n",
    "| s | -1, 2~3190|\n",
    "| d | -1, 2~404 |\n",
    "***특이사항 : s,d의 경우 1이 없고 대신 정의되지 않는 경우를 나타내는 -1이 있음**"
   ]
  },
  {
   "cell_type": "code",
   "execution_count": 4,
   "metadata": {
    "hidden": true
   },
   "outputs": [
    {
     "name": "stdout",
     "output_type": "stream",
     "text": [
      "b : 57\n",
      "m : 552\n",
      "s : 3190\n",
      "d : 404\n",
      "contents : \n",
      " {'s': {'': -1, '탱크 RC': 1966, '북엔드': 634, '로비의자': 477, '한복/생활한복': 230, '스프링클러': 2517, '피클통조림': 1643, ...\n"
     ]
    }
   ],
   "source": [
    "kind = ['b','m','s','d']\n",
    "for x in kind : \n",
    "    print(x, ':', len(eda.cate1[x]))\n",
    "    \n",
    "print('contents : \\n', str(eda.cate1)[:100], '...')"
   ]
  },
  {
   "cell_type": "markdown",
   "metadata": {},
   "source": [
    "### 데이터 내용 확인\n",
    "그 다음 데이터의 실제 내용을 확인해보았다. 1. 실제 내용을 살표보고 2. 통계적으로 특징을 살펴보았다.\n",
    "#### 주어진 데이터 내용 파악\n",
    "주어진 데이터를 먼저 랜덤하게 확인하도록 하고(감잡기), 특정 값을 갖는 데이터(좀 더 자세히 확인)만 볼 수 있도록 두가지 방법의 코드를 구현해 사용하였다. \n",
    "> 어떤식으로 값이 들어가 있는지, 눈에 보이는 특징이나 이상치가 보이진 않는지, 그리고 동일한 상품이라도 항상 같은 결과의 라벨이 붙어있지 않다는 것, 동일한 하위 카테고리가 여러 종류에 상위카테고리를 갖는 경우 등을 확인하게되었다. \n",
    "\n",
    "- 랜덤 확인"
   ]
  },
  {
   "cell_type": "code",
   "execution_count": 7,
   "metadata": {},
   "outputs": [
    {
     "name": "stdout",
     "output_type": "stream",
     "text": [
      "pid Y4400073335\n",
      "product Mickey - Sand Perf Nubuck Leather/Smooth Nubuck Leather 8252111 a027 (관세 및 부과세 포함됨) \n",
      " if split :  ['Mickey', 'Sand', 'Perf', 'Nubuck', 'Leather', 'Smooth', 'Nubuck', 'Leather', 'a', '관세', '및', '부과세', '포함됨']\n",
      "brand  \n",
      " if split :  []\n",
      "model  \n",
      " if split :  []\n",
      "maker  \n",
      " if split :  []\n",
      "price -1\n",
      "updttm 20180420080856\n",
      "img_feat [0.20309323 0.07542448 0.34578097 ... 0.09111865 0.20108558 0.0829398 ]\n",
      "--------------------------------------------------\n",
      "bcateid ('신발/수제화', 17)\n",
      "mcateid ('슬립온', 37)\n",
      "scateid ('', -1)\n",
      "dcateid ('', -1)\n"
     ]
    }
   ],
   "source": [
    "import numpy as np\n",
    "\n",
    "h = eda.load_datafile(DATAFILE_PATH + '/train.chunk.09')\n",
    "random = np.random.randint(h['train']['pid'].shape[0])\n",
    "eda.show_one(h, random)"
   ]
  },
  {
   "cell_type": "markdown",
   "metadata": {},
   "source": [
    "- 특정 값을 갖는 데이터들을 확인"
   ]
  },
  {
   "cell_type": "code",
   "execution_count": 20,
   "metadata": {},
   "outputs": [
    {
     "name": "stdout",
     "output_type": "stream",
     "text": [
      "pid T4469519774\n",
      "product 상신정밀_테이퍼핀리머GEM300_25.0mm_390mm \n",
      " if split :  ['상신정밀', '테이퍼핀리머GEM', 'mm', 'mm']\n",
      "brand 브랜드)상신정밀 \n",
      " if split :  ['브랜드', '상신정밀']\n",
      "model 품명:상신정밀_테이퍼핀리머GEM300_25.0mm_390mm / 모델명:상세정보별도표시 \n",
      " if split :  ['품명', '상신정밀', '테이퍼핀리머GEM', 'mm', 'mm', '모델명', '상세정보별도표시']\n",
      "maker 제조자:상신정밀 / 수입자:상신정밀 \n",
      " if split :  ['제조자', '상신정밀', '수입자', '상신정밀']\n",
      "price 176360\n",
      "updttm 20180310144702\n",
      "img_feat [0.         0.01017884 0.         ... 0.01120353 0.33971998 0.40417528]\n",
      "--------------------------------------------------\n",
      "bcateid ('산업/공구/안전용품', 28)\n",
      "mcateid ('전동공구', 47)\n",
      "scateid ('액세사리/부품', 809)\n",
      "dcateid ('', -1)\n",
      "../../dataset/train.chunk.01\n",
      "\n",
      "\n",
      "pid G4476662317\n",
      "product 상신정밀_카운터싱크(홀형90도)GEM890_35.0mm_80mm \n",
      " if split :  ['상신정밀', '카운터싱크', '홀형', '도', 'GEM', 'mm', 'mm']\n",
      "brand 브랜드)상신정밀 \n",
      " if split :  ['브랜드', '상신정밀']\n",
      "model 품명:상신정밀_카운터싱크(홀형90도)GEM890_35.0mm_80mm / 모델명:상세정보별도표시 \n",
      " if split :  ['품명', '상신정밀', '카운터싱크', '홀형', '도', 'GEM', 'mm', 'mm', '모델명', '상세정보별도표시']\n",
      "maker 제조자:상신정밀 / 수입자:상신정밀 \n",
      " if split :  ['제조자', '상신정밀', '수입자', '상신정밀']\n",
      "price 108900\n",
      "updttm 20180312085815\n",
      "img_feat [0.         0.9186024  0.02748984 ... 0.02153673 0.         0.4062078 ]\n",
      "--------------------------------------------------\n",
      "bcateid ('산업/공구/안전용품', 28)\n",
      "mcateid ('전동공구', 47)\n",
      "scateid ('액세사리/부품', 809)\n",
      "dcateid ('', -1)\n",
      "../../dataset/train.chunk.01\n",
      "\n",
      "\n",
      "pid M4469520639\n",
      "product 상신정밀_브릿지리머GEM501_26.0mm_190mm \n",
      " if split :  ['상신정밀', '브릿지리머GEM', 'mm', 'mm']\n",
      "brand 브랜드)상신정밀 \n",
      " if split :  ['브랜드', '상신정밀']\n",
      "model 품명:상신정밀_브릿지리머GEM501_26.0mm_190mm / 모델명:상세정보별도표시 \n",
      " if split :  ['품명', '상신정밀', '브릿지리머GEM', 'mm', 'mm', '모델명', '상세정보별도표시']\n",
      "maker 제조자:상신정밀 / 수입자:상신정밀 \n",
      " if split :  ['제조자', '상신정밀', '수입자', '상신정밀']\n",
      "price 165790\n",
      "updttm 20180310144703\n",
      "img_feat [0.         0.05837183 0.13060115 ... 0.         0.29129586 0.15780444]\n",
      "--------------------------------------------------\n",
      "bcateid ('산업/공구/안전용품', 28)\n",
      "mcateid ('연마/절삭/절단공구', 86)\n",
      "scateid ('', -1)\n",
      "dcateid ('', -1)\n",
      "../../dataset/train.chunk.03\n",
      "\n",
      "\n",
      "pid Q4419707967\n",
      "product 상신정밀_초경리머GEMC100_11.0mm_106mm \n",
      " if split :  ['상신정밀', '초경리머GEMC', 'mm', 'mm']\n",
      "brand 브랜드)상신정밀 \n",
      " if split :  ['브랜드', '상신정밀']\n",
      "model 품명:상신정밀_초경리머GEMC100_11.0mm_106mm / 모델명:상세정보별도표시 \n",
      " if split :  ['품명', '상신정밀', '초경리머GEMC', 'mm', 'mm', '모델명', '상세정보별도표시']\n",
      "maker 제조자:상신정밀 / 수입자:상신정밀 \n",
      " if split :  ['제조자', '상신정밀', '수입자', '상신정밀']\n",
      "price 106830\n",
      "updttm 20180223101425\n",
      "img_feat [0.         0.00557371 0.01245503 ... 0.         0.05897094 0.06268866]\n",
      "--------------------------------------------------\n",
      "bcateid ('산업/공구/안전용품', 28)\n",
      "mcateid ('연마/절삭/절단공구', 86)\n",
      "scateid ('', -1)\n",
      "dcateid ('', -1)\n",
      "../../dataset/train.chunk.05\n",
      "\n",
      "\n"
     ]
    }
   ],
   "source": [
    "eda.show_byvalue('브랜드)상신정밀', bywhich='brand', maxshow=3)"
   ]
  },
  {
   "cell_type": "markdown",
   "metadata": {},
   "source": [
    "#### 주어진 데이터의 통계적 파악\n",
    "우선 각 파일의 들어있는 라벨의 종류 살펴보았다. \n",
    "> 각 파일에 모든 라벨의 데이터가 들어있지 않았다. 즉 하나의 데이터 파일만 학습시 아예 학습하지 못하는 카테고리 라벨이 존재한다. 특히 **01번 데이터 파일의 경우 `52, 463, 2070, 183`로 가장 한정된 종류의 데이터로 구성**되어있었다."
   ]
  },
  {
   "cell_type": "code",
   "execution_count": 2,
   "metadata": {},
   "outputs": [
    {
     "name": "stderr",
     "output_type": "stream",
     "text": [
      "[INFO    ] 2019-01-10 18:33:45 [EDA.py] [check_y_proportion:128] Checking label proportion in train_data_list, with 4 core.\n"
     ]
    },
    {
     "name": "stdout",
     "output_type": "stream",
     "text": [
      "processed  ../dataset/train.chunk.01 ( 1000000 ) unique number of b,m,s,d [52, 463, 2070, 183]\n",
      "processed  ../dataset/train.chunk.04 ( 1000000 ) unique number of b,m,s,d [56, 549, 3103, 394]\n",
      "processed  ../dataset/train.chunk.03 ( 1000000 ) unique number of b,m,s,d [56, 548, 3102, 396]\n",
      "processed  ../dataset/train.chunk.02 ( 1000000 ) unique number of b,m,s,d [57, 551, 3097, 380]\n",
      "processed  ../dataset/train.chunk.05 ( 1000000 ) unique number of b,m,s,d [56, 548, 3100, 397]\n",
      "processed  ../dataset/train.chunk.06 ( 1000000 ) unique number of b,m,s,d [56, 549, 3105, 397]\n",
      "processed  ../dataset/train.chunk.07 ( 1000000 ) unique number of b,m,s,d [56, 549, 3105, 396]\n",
      "processed  ../dataset/train.chunk.08 ( 1000000 ) unique number of b,m,s,d [56, 549, 3107, 397]\n",
      "processed  ../dataset/train.chunk.09 ( 134818 ) unique number of b,m,s,d [56, 542, 2831, 333]\n"
     ]
    },
    {
     "name": "stderr",
     "output_type": "stream",
     "text": [
      "[INFO    ] 2019-01-10 18:34:18 [EDA.py] [check_y_proportion:143] Save label counting as picke file ./EDA/01\n",
      "[INFO    ] 2019-01-10 18:34:18 [EDA.py] [check_y_proportion:143] Save label counting as picke file ./EDA/02\n",
      "[INFO    ] 2019-01-10 18:34:18 [EDA.py] [check_y_proportion:143] Save label counting as picke file ./EDA/03\n",
      "[INFO    ] 2019-01-10 18:34:18 [EDA.py] [check_y_proportion:143] Save label counting as picke file ./EDA/04\n",
      "[INFO    ] 2019-01-10 18:34:18 [EDA.py] [check_y_proportion:143] Save label counting as picke file ./EDA/05\n",
      "[INFO    ] 2019-01-10 18:34:18 [EDA.py] [check_y_proportion:143] Save label counting as picke file ./EDA/06\n",
      "[INFO    ] 2019-01-10 18:34:18 [EDA.py] [check_y_proportion:143] Save label counting as picke file ./EDA/07\n",
      "[INFO    ] 2019-01-10 18:34:18 [EDA.py] [check_y_proportion:143] Save label counting as picke file ./EDA/08\n",
      "[INFO    ] 2019-01-10 18:34:18 [EDA.py] [check_y_proportion:143] Save label counting as picke file ./EDA/09\n"
     ]
    }
   ],
   "source": [
    "counts = eda.check_y_proportion('train_data_list', 'train')"
   ]
  },
  {
   "cell_type": "markdown",
   "metadata": {},
   "source": [
    "다음으로 각 카테고리의 라벨별 갯수를 살펴보면,\n",
    "> - 각 카테고리별 갯수가 최대 10만오더, 최소 10오더로 **최대 최소간 만배의 분포 차이**를 보임\n",
    "> - bmsd 4개의 카테고리를 하나의 string으로 묶어서 새로운 카테고리를 정의한 경우, 가장 다양한 s카테고리보다 1000개 정도 더 증가한 4000여개의 레이블로 분류되며 제일 적은 레이블 데이터수는 9개.\n",
    "> - d카테고리의 경우 -1인 경우가 약 740만개로 **약 5%정도인 60만개 정도만이 분류값이 존재**한다. \n",
    "> - "
   ]
  },
  {
   "cell_type": "code",
   "execution_count": 16,
   "metadata": {},
   "outputs": [],
   "source": [
    "import pickle\n",
    "for x in range(9) :\n",
    "    if x == 0 :\n",
    "        total= pickle.loads(open('./EDA/0{}'.format(x+1) , 'rb').read())\n",
    "    else :\n",
    "        one = pickle.loads(open('./EDA/0{}'.format(x+1) , 'rb').read())\n",
    "        for case in ['b','m','s', 'd', 'dummy'] :\n",
    "            for cat, number in one.get(case).items() :\n",
    "                total[case][cat] = total[case].get(cat)+ number if total[case].get(cat) else number"
   ]
  },
  {
   "cell_type": "code",
   "execution_count": 19,
   "metadata": {},
   "outputs": [
    {
     "name": "stdout",
     "output_type": "stream",
     "text": [
      "57 552 3190 404 4215\n",
      "category b - most ('가방/지갑/잡화', 14)=>572,932 | least ('여행', 31)=>54\n",
      "category m - most ('휴대폰액세서리', 3)=>346,249 | least ('기타육류', 545)=>15\n",
      "category s - most ('', -1)=>1,866,120 | least ('화장품냉장고', 3184)=>10\n",
      "category d - most ('', -1)=>7,376,926 | least ('용인시', 404)=>11\n",
      "category dummy - most ('24>31>34>5', 72344) | least ('45>185>290>-1', 9)\n",
      "카테고리 종류별 라벨 카운트 갯수\n"
     ]
    },
    {
     "data": {
      "image/png": "[encoded data removed]",
      "text/plain": [
       "<Figure size 1440x360 with 5 Axes>"
      ]
     },
     "metadata": {
      "needs_background": "light"
     },
     "output_type": "display_data"
    }
   ],
   "source": [
    "import matplotlib.pyplot as plt\n",
    "%matplotlib inline\n",
    "plt.rcParams['figure.figsize'] = (20, 5.0) # set default size of plots : (width, height)\n",
    "\n",
    "b, m, s, d, dummy = total['b'], total['m'], total['s'], total['d'], total['dummy']\n",
    "print(len(b), len(m), len(s), len(d), len(dummy))\n",
    "\n",
    "def summary(total, cnt, which='b') :\n",
    "    count = sorted(total[which].items(), key=lambda x : x[0])\n",
    "    x = [key for key,_ in count]\n",
    "    y = [val for _,val in count]\n",
    "    \n",
    "    plt.subplot(1,5,cnt)\n",
    "#     plt.bar(x,y)\n",
    "    plt.plot(y,)\n",
    "\n",
    "    max_count = max(total[which].items(), key=lambda x : x[1])\n",
    "    min_count = min(total[which].items(), key=lambda x : x[1])\n",
    "\n",
    "    if which=='dummy' :\n",
    "        print('category {} - most {} | least {}'.format(which, max_count, min_count))\n",
    "    else :\n",
    "        print('category {} - most {}=>{:,} | least {}=>{:,}'.format(which, eda.catename(which, max_count[0]),int(max_count[1]), eda.catename(which, min_count[0]),int(min_count[1])))\n",
    "    \n",
    "summary(total, 1,'b')\n",
    "summary(total, 2,'m')\n",
    "summary(total, 3,'s')\n",
    "summary(total, 4,'d')\n",
    "summary(total, 5,'dummy')\n",
    "\n",
    "print('카테고리 종류별 라벨 카운트 갯수')\n",
    "# print(eda.catename('b',45), edacatename('m', 185), catename('s',290))"
   ]
  },
  {
   "cell_type": "code",
   "execution_count": null,
   "metadata": {},
   "outputs": [],
   "source": [
    "카테고리 컬럼사이의 상관관계"
   ]
  },
  {
   "cell_type": "markdown",
   "metadata": {},
   "source": [
    "## 전처리하여 학습데이터 구축\n",
    "\n",
    "특히 신경쓴 부분은, 파일이 크기 때문에 시간효율성을 고려한 코드를 짜는 부분이이었다. 카카오에서 주어진 basecode의 방법은 파일에서 하나씩 데이터를 읽어오는 부분들이 있었는데, 읽어오는 부분에 병목이 생겨 시간비효율성이 존재하고 있었다. 따라서 hdf5파일에서 뭉치로 읽어와서 처리를 하여 4~5시간 걸리는 작업을 30분정도에 수행하도록 코드를 구성했다."
   ]
  },
  {
   "cell_type": "markdown",
   "metadata": {},
   "source": [
    "## 모델 정의, 학습\n",
    "\n",
    "Tensorflow를 사용. "
   ]
  },
  {
   "cell_type": "markdown",
   "metadata": {},
   "source": [
    "사용한 파일 형태 hdf5"
   ]
  },
  {
   "cell_type": "markdown",
   "metadata": {},
   "source": [
    "hdf5 vs tfrecord"
   ]
  },
  {
   "cell_type": "markdown",
   "metadata": {},
   "source": [
    "h5py, tqdm, json, logging, Pool, Option, matplotlib"
   ]
  }
 ],
 "metadata": {
  "hide_input": false,
  "kernelspec": {
   "display_name": "Python 3",
   "language": "python",
   "name": "python3"
  },
  "language_info": {
   "codemirror_mode": {
    "name": "ipython",
    "version": 3
   },
   "file_extension": ".py",
   "mimetype": "text/x-python",
   "name": "python",
   "nbconvert_exporter": "python",
   "pygments_lexer": "ipython3",
   "version": "3.6.5"
  },
  "toc": {
   "base_numbering": 1,
   "nav_menu": {
    "height": "192px",
    "width": "199px"
   },
   "number_sections": true,
   "sideBar": true,
   "skip_h1_title": false,
   "title_cell": "Table of Contents",
   "title_sidebar": "Contents",
   "toc_cell": false,
   "toc_position": {},
   "toc_section_display": true,
   "toc_window_display": false
  }
 },
 "nbformat": 4,
 "nbformat_minor": 2
}
